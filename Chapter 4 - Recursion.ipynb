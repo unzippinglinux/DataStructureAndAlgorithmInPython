{
 "cells": [
  {
   "cell_type": "code",
   "execution_count": 1,
   "metadata": {},
   "outputs": [
    {
     "data": {
      "text/plain": [
       "24"
      ]
     },
     "execution_count": 1,
     "metadata": {},
     "output_type": "execute_result"
    }
   ],
   "source": [
    "## the Factorial function\n",
    "\n",
    "def factorial(n):\n",
    "    if n==0: \n",
    "        return 1\n",
    "    else: \n",
    "        return n * factorial(n-1)\n",
    "    \n",
    "\n",
    "factorial(4)"
   ]
  },
  {
   "cell_type": "code",
   "execution_count": 10,
   "metadata": {},
   "outputs": [
    {
     "data": {
      "text/plain": [
       "True"
      ]
     },
     "execution_count": 10,
     "metadata": {},
     "output_type": "execute_result"
    }
   ],
   "source": [
    "## Binary Search - Presumes data being sorted\n",
    "def binary_search(data, target, low, high):\n",
    "    if low > high:\n",
    "        return False\n",
    "    else: \n",
    "        mid = (low+high)//2\n",
    "        if target == data[mid]:\n",
    "            return True\n",
    "        elif target < data[mid]:\n",
    "            return binary_search(data, target, low, mid - 1)\n",
    "        else: \n",
    "            return binary_search(data, target, mid + 1, high)\n",
    "        \n",
    "li = [2,5,8,9,17,21,54,55,168,184,270,498,578,865,987]   \n",
    "target = 17\n",
    "\n",
    "binary_search(li, target, 0, len(li))"
   ]
  },
  {
   "cell_type": "code",
   "execution_count": 12,
   "metadata": {},
   "outputs": [
    {
     "data": {
      "text/plain": [
       "131253"
      ]
     },
     "execution_count": 12,
     "metadata": {},
     "output_type": "execute_result"
    }
   ],
   "source": [
    "## used disk space \n",
    "\n",
    "import os\n",
    "\n",
    "def disk_usage(path):\n",
    "    '''Return the number of bytes used by a file/folder and any descendents'''\n",
    "    total = os.path.getsize(path)\n",
    "    if os.path.isdir(path):\n",
    "        for filename in os.listdir(path):\n",
    "            childpath = os.path.join(path, filename)\n",
    "            total += disk_usage(childpath)\n",
    "            \n",
    "    #print('{0:<7}'.format(total), path)\n",
    "    \n",
    "    return total \n",
    "\n",
    "disk_usage(os.getcwd())"
   ]
  },
  {
   "cell_type": "code",
   "execution_count": 17,
   "metadata": {},
   "outputs": [
    {
     "name": "stdout",
     "output_type": "stream",
     "text": [
      "5\n",
      "2\n"
     ]
    }
   ],
   "source": [
    "#Fibonacci implementation\n",
    "##Inefficient \n",
    "def bad_fibonacci(n):\n",
    "    \"\"\"Return the nth Fibonacci number\"\"\"\n",
    "    if n<=1:\n",
    "        return n\n",
    "    else:\n",
    "        return bad_fibonacci(n-2) + bad_fibonacci(n-1)\n",
    "    \n",
    "print(bad_fibonacci(5))\n",
    "print(bad_fibonacci(3))\n"
   ]
  },
  {
   "cell_type": "code",
   "execution_count": 19,
   "metadata": {},
   "outputs": [
    {
     "name": "stdout",
     "output_type": "stream",
     "text": [
      "(1, 0)\n",
      "(1, 0)\n",
      "(1, 0)\n"
     ]
    }
   ],
   "source": [
    "#Fibonacci implementation\n",
    "##Efficient \n",
    "\n",
    "def good_fibnacci(n):\n",
    "    \"\"\"Return pair of Fibonacci number, F(n) and F(n-1)\"\"\"\n",
    "    if n <= 1:\n",
    "        return (n, 0)\n",
    "    else:\n",
    "        (a, b) = good_fibnacci(n-1)\n",
    "        return (a+b, b)\n",
    "    \n",
    "print(good_fibnacci(10))\n",
    "print(good_fibnacci(5))\n",
    "print(good_fibnacci(8))"
   ]
  },
  {
   "cell_type": "code",
   "execution_count": null,
   "metadata": {},
   "outputs": [],
   "source": []
  },
  {
   "cell_type": "code",
   "execution_count": null,
   "metadata": {},
   "outputs": [],
   "source": [
    "\n"
   ]
  }
 ],
 "metadata": {
  "kernelspec": {
   "display_name": "Python 3",
   "language": "python",
   "name": "python3"
  },
  "language_info": {
   "codemirror_mode": {
    "name": "ipython",
    "version": 3
   },
   "file_extension": ".py",
   "mimetype": "text/x-python",
   "name": "python",
   "nbconvert_exporter": "python",
   "pygments_lexer": "ipython3",
   "version": "3.7.6"
  }
 },
 "nbformat": 4,
 "nbformat_minor": 4
}
