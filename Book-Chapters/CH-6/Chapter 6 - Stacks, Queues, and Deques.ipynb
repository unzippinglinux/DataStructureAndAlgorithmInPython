{
 "cells": [
  {
   "cell_type": "markdown",
   "metadata": {},
   "source": [
    "# Code fragment 6.2\n",
    "## Stacks"
   ]
  },
  {
   "cell_type": "code",
   "execution_count": 1,
   "metadata": {},
   "outputs": [],
   "source": [
    "#Implemeting a stack using a Python list as storage\n",
    "class ArrayStack:\n",
    "    def __init__(self):\n",
    "        '''Create an empty stack.'''\n",
    "        self._data = []\n",
    "        \n",
    "    def __len__(self):\n",
    "        '''Return the number of elements in the stack'''\n",
    "        return len(self._data)\n",
    "    \n",
    "    def is_empty(self):\n",
    "        '''Return True if the stack is empty'''\n",
    "        \"\"\"Notice this function does not take any argument other than self\"\"\"\n",
    "        return len(self._data) == 0\n",
    "    \n",
    "    def push(self, e):\n",
    "        '''Add an element e to the top of the stack'''\n",
    "        self._data.append(e)\n",
    "    \n",
    "    def top(self):\n",
    "        '''Return (but do not remove ) the element at the top of the stack. \n",
    "        Raise Empty exception if the stack is empty.\n",
    "        '''\n",
    "        if self.is_empty():\n",
    "            raise Empty('Stack is empty')\n",
    "        return self._data[-1]\n",
    "    \n",
    "    def pop(self):\n",
    "        '''Return and remove the element at the top of the stack. \n",
    "        Raise Empty exception if the stack is empty.'''\n",
    "        if self.is_empty():\n",
    "            raise Empty('Stack is empty')\n",
    "        return self._data.pop()"
   ]
  },
  {
   "cell_type": "code",
   "execution_count": 2,
   "metadata": {},
   "outputs": [],
   "source": [
    "#Lets see how the ArrayStack works\n",
    "import random\n",
    "\n",
    "stack = ArrayStack()\n",
    "\n",
    "for i in [random.randint(1, 100) for _ in range(20)]:\n",
    "    #adding elements to the stack\n",
    "    stack.push(i)"
   ]
  },
  {
   "cell_type": "code",
   "execution_count": 3,
   "metadata": {},
   "outputs": [
    {
     "data": {
      "text/plain": [
       "50"
      ]
     },
     "execution_count": 3,
     "metadata": {},
     "output_type": "execute_result"
    }
   ],
   "source": [
    "#showing top of the stack\n",
    "stack.top()"
   ]
  },
  {
   "cell_type": "code",
   "execution_count": 4,
   "metadata": {},
   "outputs": [
    {
     "data": {
      "text/plain": [
       "False"
      ]
     },
     "execution_count": 4,
     "metadata": {},
     "output_type": "execute_result"
    }
   ],
   "source": [
    "#see if the stack is empty\n",
    "stack.is_empty()"
   ]
  },
  {
   "cell_type": "code",
   "execution_count": 5,
   "metadata": {},
   "outputs": [
    {
     "data": {
      "text/plain": [
       "50"
      ]
     },
     "execution_count": 5,
     "metadata": {},
     "output_type": "execute_result"
    }
   ],
   "source": [
    "#shows and removes the top elements of the stack. If we use top afterwards there should be a different elemenet\n",
    "stack.pop()"
   ]
  },
  {
   "cell_type": "code",
   "execution_count": 6,
   "metadata": {},
   "outputs": [
    {
     "data": {
      "text/plain": [
       "13"
      ]
     },
     "execution_count": 6,
     "metadata": {},
     "output_type": "execute_result"
    }
   ],
   "source": [
    "#The top data changed\n",
    "stack.top()"
   ]
  },
  {
   "cell_type": "code",
   "execution_count": 7,
   "metadata": {},
   "outputs": [
    {
     "data": {
      "text/plain": [
       "19"
      ]
     },
     "execution_count": 7,
     "metadata": {},
     "output_type": "execute_result"
    }
   ],
   "source": [
    "len(stack)"
   ]
  },
  {
   "cell_type": "code",
   "execution_count": 8,
   "metadata": {},
   "outputs": [
    {
     "data": {
      "text/plain": [
       "13"
      ]
     },
     "execution_count": 8,
     "metadata": {},
     "output_type": "execute_result"
    }
   ],
   "source": [
    "stack.pop()"
   ]
  },
  {
   "cell_type": "code",
   "execution_count": 9,
   "metadata": {},
   "outputs": [
    {
     "data": {
      "text/plain": [
       "18"
      ]
     },
     "execution_count": 9,
     "metadata": {},
     "output_type": "execute_result"
    }
   ],
   "source": [
    "len(stack)"
   ]
  },
  {
   "cell_type": "code",
   "execution_count": 10,
   "metadata": {},
   "outputs": [
    {
     "data": {
      "text/plain": [
       "100"
      ]
     },
     "execution_count": 10,
     "metadata": {},
     "output_type": "execute_result"
    }
   ],
   "source": [
    "stack.top()"
   ]
  },
  {
   "cell_type": "code",
   "execution_count": 11,
   "metadata": {},
   "outputs": [],
   "source": [
    "#Works gracefully..."
   ]
  },
  {
   "cell_type": "markdown",
   "metadata": {},
   "source": [
    "# Code Fragment 6.3"
   ]
  },
  {
   "cell_type": "code",
   "execution_count": 31,
   "metadata": {},
   "outputs": [
    {
     "name": "stdout",
     "output_type": "stream",
     "text": [
      "This\n",
      "\n",
      "is \n",
      "\n",
      "line \n",
      "\n",
      "in \n",
      "\n",
      "order\n",
      "\n",
      "And \n",
      "\n",
      "reverse\n",
      "\n",
      "in\n",
      "\n",
      "line \n",
      "\n",
      "is \n",
      "\n",
      "This\n",
      "\n",
      ";)\n",
      "\n"
     ]
    }
   ],
   "source": [
    "#Run the following bolck again and again and you'll see different output\n",
    "\n",
    "def reverse_file(filename):\n",
    "    \"\"\"Overwrite given file with its contents line-by-line reversed\"\"\"\n",
    "    S = ArrayStack()\n",
    "    \n",
    "    original = open(filename)\n",
    "    for line in original:\n",
    "        S.push(line.rstrip('\\n'))\n",
    "    original.close()\n",
    "    \n",
    "    #now we overwrite with contents in LIFO order\n",
    "    \n",
    "    output = open(filename, 'w')\n",
    "    while not S.is_empty():\n",
    "        output.write(S.pop() + \"\\n\") #re-insert newline character\n",
    "    output.close()\n",
    "    \n",
    "#Calling the function\n",
    "reverse_file('file1.txt')\n",
    "\n",
    "#Priting the lines to see the changes\n",
    "original = open('file1.txt')\n",
    "for line in original:\n",
    "    print(line)\n",
    "original.close()"
   ]
  },
  {
   "cell_type": "markdown",
   "metadata": {},
   "source": [
    "# Code fragment 6.6\n",
    "## Queues"
   ]
  },
  {
   "cell_type": "code",
   "execution_count": 4,
   "metadata": {},
   "outputs": [],
   "source": [
    "class ArrayQueue:\n",
    "    '''FIFO queue implemetation uisng a list as underlying storage'''\n",
    "    DEFAULT_CAPACITY = 10\n",
    "    \n",
    "    def __init__(self):\n",
    "        '''Create an empty queue'''\n",
    "        self._data = [None] * ArrayQueue.DEFAULT_CAPACITY\n",
    "        self._size = 0\n",
    "        #following variable will track the front of the queue\n",
    "        self._front = 0\n",
    "        \n",
    "    def __len__(self):\n",
    "        return self._size\n",
    "    \n",
    "    def is_empty(self):\n",
    "        return self._size == 0\n",
    "    \n",
    "    def first(self):\n",
    "        if self.is_empty():\n",
    "            raise Empty('Queue is empty')\n",
    "        return self._data[self._front]\n",
    "    \n",
    "    def dequeue(self):\n",
    "        if self.is_empty():\n",
    "            raise Empty('Queue is empty')\n",
    "        #Store the answer for later display\n",
    "        answer = self._data[self._front]\n",
    "        \n",
    "        #Update the pointer to None\n",
    "        self._data[self._front] = None\n",
    "        \n",
    "        #Update the front to ponit to the next element of the queue\n",
    "        self._front = (self._front + 1) % len(self._data)\n",
    "        \n",
    "        return answer\n",
    "    \n",
    "    def enqueue(self, e):\n",
    "        \"\"\"Add element to the back of the queue\"\"\"\n",
    "        # If extra space needed => increase\n",
    "        # Reminder, self._data corresponds to the entire queue. \n",
    "        # Thus, this len(self._data) corresponds to the total size of the queue\n",
    "        if self._size == len(self._data):\n",
    "            self._resize(2 * len(self._data))\n",
    "        \n",
    "        # notice enqueuing does not happen in the front. Therefore no need to update the self._front \n",
    "        avail = (self._front + self._size) % len(self._data)\n",
    "        self._data[avail] = e\n",
    "        \n",
    "        #self._size is a variable which updates in each enqueue \n",
    "        self._size += 1\n",
    "    \n",
    "    def _resize(self, cap):\n",
    "        '''Resize to a new list of capacity >= len(self)'''\n",
    "        \n",
    "        old = self._data\n",
    "        self._data = [None] * cap\n",
    "        walk = self._front\n",
    "        \n",
    "        for k in range(self._size):\n",
    "            self._data[k] = old[walk]\n",
    "            #walk onestep at a time ?!\n",
    "            walk = (1 + walk) % len(old)\n",
    "        self._front = 0"
   ]
  },
  {
   "cell_type": "code",
   "execution_count": null,
   "metadata": {},
   "outputs": [],
   "source": []
  },
  {
   "cell_type": "code",
   "execution_count": null,
   "metadata": {},
   "outputs": [],
   "source": []
  },
  {
   "cell_type": "code",
   "execution_count": null,
   "metadata": {},
   "outputs": [],
   "source": []
  },
  {
   "cell_type": "code",
   "execution_count": null,
   "metadata": {},
   "outputs": [],
   "source": []
  },
  {
   "cell_type": "code",
   "execution_count": null,
   "metadata": {},
   "outputs": [],
   "source": []
  },
  {
   "cell_type": "code",
   "execution_count": null,
   "metadata": {},
   "outputs": [],
   "source": []
  },
  {
   "cell_type": "code",
   "execution_count": null,
   "metadata": {},
   "outputs": [],
   "source": []
  },
  {
   "cell_type": "code",
   "execution_count": null,
   "metadata": {},
   "outputs": [],
   "source": []
  },
  {
   "cell_type": "code",
   "execution_count": null,
   "metadata": {},
   "outputs": [],
   "source": []
  },
  {
   "cell_type": "code",
   "execution_count": null,
   "metadata": {},
   "outputs": [],
   "source": []
  },
  {
   "cell_type": "code",
   "execution_count": null,
   "metadata": {},
   "outputs": [],
   "source": []
  },
  {
   "cell_type": "code",
   "execution_count": null,
   "metadata": {},
   "outputs": [],
   "source": []
  },
  {
   "cell_type": "code",
   "execution_count": null,
   "metadata": {},
   "outputs": [],
   "source": []
  }
 ],
 "metadata": {
  "kernelspec": {
   "display_name": "Python 3",
   "language": "python",
   "name": "python3"
  },
  "language_info": {
   "codemirror_mode": {
    "name": "ipython",
    "version": 3
   },
   "file_extension": ".py",
   "mimetype": "text/x-python",
   "name": "python",
   "nbconvert_exporter": "python",
   "pygments_lexer": "ipython3",
   "version": "3.7.6"
  }
 },
 "nbformat": 4,
 "nbformat_minor": 4
}
